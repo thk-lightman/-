{
 "cells": [
  {
   "cell_type": "markdown",
   "metadata": {},
   "source": [
    "# 데이터 준비"
   ]
  },
  {
   "cell_type": "markdown",
   "metadata": {},
   "source": [
    "데이터 목록\n",
    "1. Case.csv: \n",
    "   - case_id, province, city, group, infection_case, confirmed, latitude, longitude\n",
    "1. PatientInfo.csv\n",
    "   - patient_id, global_num, date, province, city, latitude, longitude\n",
    "1. PatientRoute.csv\n",
    "   - patient_id, global_num, date,province, city, latitude, longitude\n",
    "1. Time.csv\n",
    "   - date, time, test, negative, confirmed, released, deceased\n",
    "1. TimeAge.csv\n",
    "   - date, time, age, confirmed, deceased\n",
    "1. TimeGender.csv\n",
    "   - date, time, sex, confirmed, deceased\n",
    "1. TimeProvince.csv\n",
    "   - date, time, province, confirmed, released, deceased\n",
    "1. Region.csv\n",
    "   - code, province, city, latitude, longitude, elementary_school_count, kindergarten_count, university_count, academy_ratio, elderly_population_ratio, elderly_alone_ratio, nursing_home_count\n",
    "1. Weather.csv\n",
    "   - code, province, date, avg_temp, min_temp, max_temp, precipitation, max_wind_speed, most_wind_direction, avg_relative_humidity\n",
    "1. Searchtrend.csv\n",
    "   - date, cold, flu, pneumonia, coronavirus\n",
    "1. SeoulFloating.csv\n",
    "   - date, hour, birth_year, sex, province, city, fp_num\n",
    "1. Policy.csv\n",
    "   - policy_id, country, type, gov_policy, detail, start_date, end_date"
   ]
  },
  {
   "cell_type": "code",
   "execution_count": 2,
   "metadata": {},
   "outputs": [],
   "source": [
    "from IPython.display import HTML\n",
    "import pandas as pd\n",
    "import numpy as np\n",
    "import seaborn as sns\n",
    "import matplotlib.pyplot as plt\n",
    "import matplotlib.dates as mdates\n",
    "import matplotlib.animation as animation\n",
    "\n",
    "import plotly.express as px\n",
    "import plotly.io as pio\n",
    "pio.renderers.default = \"notebook_connected\"\n",
    "\n",
    "from sklearn.preprocessing import LabelEncoder, OneHotEncoder, StandardScaler \n",
    "from sklearn.cluster import KMeans\n",
    "from sklearn.decomposition import PCA\n",
    "\n",
    "pd.set_option('display.float_format', lambda x: '%.2f' % x)\n",
    "import warnings  \n",
    "warnings.filterwarnings('ignore')\n",
    "\n",
    "import os"
   ]
  },
  {
   "cell_type": "code",
   "execution_count": 3,
   "metadata": {},
   "outputs": [
    {
     "data": {
      "text/plain": [
       "['Case.csv',\n",
       " 'coronavirusdataset_20200430.zip',\n",
       " 'PatientInfo.csv',\n",
       " 'PatientRoute.csv',\n",
       " 'Policy.csv',\n",
       " 'Region.csv',\n",
       " 'SearchTrend.csv',\n",
       " 'SeoulFloating.csv',\n",
       " 'Time.csv',\n",
       " 'TimeAge.csv',\n",
       " 'TimeGender.csv',\n",
       " 'TimeProvince.csv',\n",
       " 'Weather.csv']"
      ]
     },
     "execution_count": 3,
     "metadata": {},
     "output_type": "execute_result"
    }
   ],
   "source": [
    "os.listdir('./data')"
   ]
  },
  {
   "cell_type": "markdown",
   "metadata": {},
   "source": [
    "- 참고자료: [변수 이름을 loop 돌려서 할당하기](https://blog.naver.com/nomadgee/220857820094)"
   ]
  },
  {
   "cell_type": "code",
   "execution_count": 4,
   "metadata": {},
   "outputs": [
    {
     "name": "stdout",
     "output_type": "stream",
     "text": [
      "['Case', 'PatientInfo', 'PatientRoute', 'Policy', 'Region', 'SearchTrend', 'SeoulFloating', 'Time', 'TimeAge', 'TimeGender', 'TimeProvince', 'Weather']\n"
     ]
    }
   ],
   "source": [
    "tables = []\n",
    "for name in os.listdir('./data'):\n",
    "    if name.endswith('csv'):\n",
    "        table = name.split('.')[0]\n",
    "        globals()[table] = pd.read_csv(os.path.join('./data', name))\n",
    "        tables.append(table)\n",
    "print(tables)"
   ]
  },
  {
   "cell_type": "code",
   "execution_count": 5,
   "metadata": {},
   "outputs": [
    {
     "name": "stdout",
     "output_type": "stream",
     "text": [
      "##################Case##########\n",
      "   case_id province           city  group         infection_case  confirmed  \\\n",
      "0  1000001    Seoul        Guro-gu   True    Guro-gu Call Center         98   \n",
      "1  1000002    Seoul  Dongdaemun-gu   True          Dongan Church         20   \n",
      "2  1000003    Seoul        Guro-gu   True  Manmin Central Church         41   \n",
      "\n",
      "    latitude   longitude  \n",
      "0  37.508163  126.884387  \n",
      "1  37.592888  127.056766  \n",
      "2  37.481059  126.894343  \n",
      "##################PatientInfo##########\n",
      "   patient_id  global_num   sex  birth_year  age country province  \\\n",
      "0  1000000001        2.00  male     1964.00  50s   Korea    Seoul   \n",
      "1  1000000002        5.00  male     1987.00  30s   Korea    Seoul   \n",
      "2  1000000003        6.00  male     1964.00  50s   Korea    Seoul   \n",
      "\n",
      "          city disease        infection_case  infection_order   infected_by  \\\n",
      "0   Gangseo-gu     NaN       overseas inflow             1.00           nan   \n",
      "1  Jungnang-gu     NaN       overseas inflow             1.00           nan   \n",
      "2    Jongno-gu     NaN  contact with patient             2.00 2002000001.00   \n",
      "\n",
      "   contact_number symptom_onset_date confirmed_date released_date  \\\n",
      "0           75.00         2020-01-22     2020-01-23    2020-02-05   \n",
      "1           31.00                NaN     2020-01-30    2020-03-02   \n",
      "2           17.00                NaN     2020-01-30    2020-02-19   \n",
      "\n",
      "  deceased_date     state  \n",
      "0           NaN  released  \n",
      "1           NaN  released  \n",
      "2           NaN  released  \n",
      "##################PatientRoute##########\n",
      "   patient_id  global_num        date     province         city      type  \\\n",
      "0  1000000001        2.00  2020-01-22  Gyeonggi-do     Gimpo-si   airport   \n",
      "1  1000000001        2.00  2020-01-24        Seoul      Jung-gu  hospital   \n",
      "2  1000000002        5.00  2020-01-25        Seoul  Seongbuk-gu       etc   \n",
      "\n",
      "   latitude  longitude  \n",
      "0     37.62     126.72  \n",
      "1     37.57     127.01  \n",
      "2     37.59     127.02  \n",
      "##################Policy##########\n",
      "   policy_id country   type                      gov_policy            detail  \\\n",
      "0          1   Korea  Alert  Infectious Disease Alert Level    Level 1 (Blue)   \n",
      "1          2   Korea  Alert  Infectious Disease Alert Level  Level 2 (Yellow)   \n",
      "2          3   Korea  Alert  Infectious Disease Alert Level  Level 3 (Orange)   \n",
      "\n",
      "   start_date    end_date  \n",
      "0  2020-01-03  2020-01-19  \n",
      "1  2020-01-20  2020-01-27  \n",
      "2  2020-01-28  2020-02-22  \n",
      "##################Region##########\n",
      "    code province         city  latitude  longitude  elementary_school_count  \\\n",
      "0  10000    Seoul        Seoul     37.57     126.98                      607   \n",
      "1  10010    Seoul   Gangnam-gu     37.52     127.05                       33   \n",
      "2  10020    Seoul  Gangdong-gu     37.53     127.12                       27   \n",
      "\n",
      "   kindergarten_count  university_count  academy_ratio  \\\n",
      "0                 830                48           1.44   \n",
      "1                  38                 0           4.18   \n",
      "2                  32                 0           1.54   \n",
      "\n",
      "   elderly_population_ratio  elderly_alone_ratio  nursing_home_count  \n",
      "0                     15.38                 5.80               22739  \n",
      "1                     13.17                 4.30                3088  \n",
      "2                     14.55                 5.40                1023  \n",
      "##################SearchTrend##########\n",
      "         date  cold  flu  pneumonia  coronavirus\n",
      "0  2016-01-01  0.12 0.06       0.16         0.01\n",
      "1  2016-01-02  0.13 0.17       0.21         0.01\n",
      "2  2016-01-03  0.15 0.22       0.19         0.01\n",
      "##################SeoulFloating##########\n",
      "         date  hour  birth_year     sex province           city  fp_num\n",
      "0  2020-01-01     0          20  female    Seoul      Dobong-gu   19140\n",
      "1  2020-01-01     0          20    male    Seoul      Dobong-gu   19950\n",
      "2  2020-01-01     0          20  female    Seoul  Dongdaemun-gu   25450\n",
      "##################Time##########\n",
      "         date  time  test  negative  confirmed  released  deceased\n",
      "0  2020-01-20    16     1         0          1         0         0\n",
      "1  2020-01-21    16     1         0          1         0         0\n",
      "2  2020-01-22    16     4         3          1         0         0\n",
      "##################TimeAge##########\n",
      "         date  time  age  confirmed  deceased\n",
      "0  2020-03-02     0   0s         32         0\n",
      "1  2020-03-02     0  10s        169         0\n",
      "2  2020-03-02     0  20s       1235         0\n",
      "##################TimeGender##########\n",
      "         date  time     sex  confirmed  deceased\n",
      "0  2020-03-02     0    male       1591        13\n",
      "1  2020-03-02     0  female       2621         9\n",
      "2  2020-03-03     0    male       1810        16\n",
      "##################TimeProvince##########\n",
      "         date  time province  confirmed  released  deceased\n",
      "0  2020-01-20    16    Seoul          0         0         0\n",
      "1  2020-01-20    16    Busan          0         0         0\n",
      "2  2020-01-20    16    Daegu          0         0         0\n",
      "##################Weather##########\n",
      "    code province        date  avg_temp  min_temp  max_temp  precipitation  \\\n",
      "0  10000    Seoul  2016-01-01      1.20     -3.30      4.00           0.00   \n",
      "1  11000    Busan  2016-01-01      5.30      1.10     10.90           0.00   \n",
      "2  12000    Daegu  2016-01-01      1.70     -4.00      8.00           0.00   \n",
      "\n",
      "   max_wind_speed  most_wind_direction  avg_relative_humidity  \n",
      "0            3.50                90.00                  73.00  \n",
      "1            7.40               340.00                  52.10  \n",
      "2            3.70               270.00                  70.50  \n"
     ]
    }
   ],
   "source": [
    "# table = 'Case'\n",
    "# exec(\"print(%s.head(3))\"%(table))\n",
    "for table in tables:\n",
    "    print(f'##################{table}##########')\n",
    "    print(globals()[table].head(3))"
   ]
  },
  {
   "cell_type": "markdown",
   "metadata": {},
   "source": [
    "# EDA"
   ]
  },
  {
   "cell_type": "markdown",
   "metadata": {},
   "source": [
    "## 1.1. 감염 경로 유형"
   ]
  },
  {
   "cell_type": "code",
   "execution_count": 6,
   "metadata": {},
   "outputs": [],
   "source": [
    "data = PatientInfo.copy()"
   ]
  },
  {
   "cell_type": "code",
   "execution_count": 7,
   "metadata": {},
   "outputs": [
    {
     "name": "stdout",
     "output_type": "stream",
     "text": [
      "the number of unique values in infection_case: 24\n"
     ]
    },
    {
     "data": {
      "text/plain": [
       "contact with patient                     968\n",
       "overseas inflow                          604\n",
       "etc                                      572\n",
       "Guro-gu Call Center                      112\n",
       "Shincheonji Church                       107\n",
       "Onchun Church                             33\n",
       "Bonghwa Pureun Nursing Home               31\n",
       "gym facility in Cheonan                   30\n",
       "Ministry of Oceans and Fisheries          28\n",
       "Cheongdo Daenam Hospital                  21\n",
       "Dongan Church                             17\n",
       "Eunpyeong St. Mary's Hospital             16\n",
       "Gyeongsan Seorin Nursing Home             15\n",
       "Seongdong-gu APT                          13\n",
       "Gyeongsan Jeil Silver Town                12\n",
       "Milal Shelter                             11\n",
       "Gyeongsan Cham Joeun Community Center     10\n",
       "Geochang Church                            6\n",
       "gym facility in Sejong                     4\n",
       "Changnyeong Coin Karaoke                   4\n",
       "Suyeong-gu Kindergarten                    3\n",
       "Pilgrimage to Israel                       2\n",
       "River of Grace Community Church            1\n",
       "Name: infection_case, dtype: int64"
      ]
     },
     "execution_count": 7,
     "metadata": {},
     "output_type": "execute_result"
    }
   ],
   "source": [
    "print('the number of unique values in infection_case:',len(data['infection_case'].unique())) \n",
    "data['infection_case'].value_counts()"
   ]
  },
  {
   "cell_type": "markdown",
   "metadata": {},
   "source": [
    "- 100명 정도로는 하나의 그룹이라 부르기 어렵다. 그렇다면 다 합쳐서 집단 감염이라고 해보자.\n",
    "- 그런데 6명도 집단 감염이라고 할 수 있나 ? 없애버리자."
   ]
  },
  {
   "cell_type": "code",
   "execution_count": 8,
   "metadata": {},
   "outputs": [
    {
     "data": {
      "image/png": "[encoded data removed]",
      "text/plain": [
       "<Figure size 864x432 with 1 Axes>"
      ]
     },
     "metadata": {
      "needs_background": "light"
     },
     "output_type": "display_data"
    }
   ],
   "source": [
    "g = data.groupby(['infection_case'])['patient_id'].count()\n",
    "g = g.reset_index()\n",
    "g.rename(columns = {'patient_id': 'count'}, inplace = True)\n",
    "\n",
    "g = g.sort_values('count', ascending = False)\n",
    "\n",
    "plt.figure(figsize = (12,6))\n",
    "plt.title('number of patients in infection_case values')\n",
    "sns.barplot(y = 'infection_case', x= 'count', data = g)\n",
    "plt.show()"
   ]
  },
  {
   "cell_type": "code",
   "execution_count": 10,
   "metadata": {},
   "outputs": [
    {
     "data": {
      "text/html": [
       "<div>\n",
       "<style scoped>\n",
       "    .dataframe tbody tr th:only-of-type {\n",
       "        vertical-align: middle;\n",
       "    }\n",
       "\n",
       "    .dataframe tbody tr th {\n",
       "        vertical-align: top;\n",
       "    }\n",
       "\n",
       "    .dataframe thead th {\n",
       "        text-align: right;\n",
       "    }\n",
       "</style>\n",
       "<table border=\"1\" class=\"dataframe\">\n",
       "  <thead>\n",
       "    <tr style=\"text-align: right;\">\n",
       "      <th></th>\n",
       "      <th>patient_id</th>\n",
       "    </tr>\n",
       "    <tr>\n",
       "      <th>infection_case</th>\n",
       "      <th></th>\n",
       "    </tr>\n",
       "  </thead>\n",
       "  <tbody>\n",
       "    <tr>\n",
       "      <th>Changnyeong Coin Karaoke</th>\n",
       "      <td>4</td>\n",
       "    </tr>\n",
       "    <tr>\n",
       "      <th>Geochang Church</th>\n",
       "      <td>6</td>\n",
       "    </tr>\n",
       "    <tr>\n",
       "      <th>Pilgrimage to Israel</th>\n",
       "      <td>2</td>\n",
       "    </tr>\n",
       "    <tr>\n",
       "      <th>River of Grace Community Church</th>\n",
       "      <td>1</td>\n",
       "    </tr>\n",
       "    <tr>\n",
       "      <th>Suyeong-gu Kindergarten</th>\n",
       "      <td>3</td>\n",
       "    </tr>\n",
       "    <tr>\n",
       "      <th>gym facility in Sejong</th>\n",
       "      <td>4</td>\n",
       "    </tr>\n",
       "  </tbody>\n",
       "</table>\n",
       "</div>"
      ],
      "text/plain": [
       "                                 patient_id\n",
       "infection_case                             \n",
       "Changnyeong Coin Karaoke                  4\n",
       "Geochang Church                           6\n",
       "Pilgrimage to Israel                      2\n",
       "River of Grace Community Church           1\n",
       "Suyeong-gu Kindergarten                   3\n",
       "gym facility in Sejong                    4"
      ]
     },
     "execution_count": 10,
     "metadata": {},
     "output_type": "execute_result"
    }
   ],
   "source": [
    "g = data.groupby(['infection_case'])['patient_id'].count()\n",
    "g = pd.DataFrame(g)\n",
    "\n",
    "infection_case_less_than_10 = g[g['patient_id'] < 10].index.tolist()\n",
    "g[g.index.isin(infection_case_less_than_10)]"
   ]
  },
  {
   "cell_type": "code",
   "execution_count": 11,
   "metadata": {},
   "outputs": [
    {
     "name": "stdout",
     "output_type": "stream",
     "text": [
      "original data shape: (3388, 18)\n",
      "data shape after slicing:  (3368, 18)\n"
     ]
    }
   ],
   "source": [
    "print('original data shape:', data.shape)\n",
    "data = data[~(data['infection_case'].isin(infection_case_less_than_10))]\n",
    "print('data shape after slicing: ', data.shape)"
   ]
  },
  {
   "cell_type": "markdown",
   "metadata": {},
   "source": [
    "- 결측값 처리"
   ]
  },
  {
   "cell_type": "code",
   "execution_count": 12,
   "metadata": {},
   "outputs": [
    {
     "name": "stdout",
     "output_type": "stream",
     "text": [
      "22.80%를 차지함\n"
     ]
    }
   ],
   "source": [
    "ratio = data['infection_case'].isnull().sum() / len(data['infection_case'])\n",
    "print(f'{ratio*100:.2f}%를 차지함')"
   ]
  },
  {
   "cell_type": "code",
   "execution_count": 13,
   "metadata": {},
   "outputs": [
    {
     "name": "stdout",
     "output_type": "stream",
     "text": [
      "(3368, 19)\n"
     ]
    },
    {
     "data": {
      "text/html": [
       "<div>\n",
       "<style scoped>\n",
       "    .dataframe tbody tr th:only-of-type {\n",
       "        vertical-align: middle;\n",
       "    }\n",
       "\n",
       "    .dataframe tbody tr th {\n",
       "        vertical-align: top;\n",
       "    }\n",
       "\n",
       "    .dataframe thead th {\n",
       "        text-align: right;\n",
       "    }\n",
       "</style>\n",
       "<table border=\"1\" class=\"dataframe\">\n",
       "  <thead>\n",
       "    <tr style=\"text-align: right;\">\n",
       "      <th></th>\n",
       "      <th>patient_id</th>\n",
       "      <th>global_num</th>\n",
       "      <th>sex</th>\n",
       "      <th>birth_year</th>\n",
       "      <th>age</th>\n",
       "      <th>country</th>\n",
       "      <th>province</th>\n",
       "      <th>city</th>\n",
       "      <th>disease</th>\n",
       "      <th>infection_case</th>\n",
       "      <th>infection_order</th>\n",
       "      <th>infected_by</th>\n",
       "      <th>contact_number</th>\n",
       "      <th>symptom_onset_date</th>\n",
       "      <th>confirmed_date</th>\n",
       "      <th>released_date</th>\n",
       "      <th>deceased_date</th>\n",
       "      <th>state</th>\n",
       "      <th>infection</th>\n",
       "    </tr>\n",
       "  </thead>\n",
       "  <tbody>\n",
       "    <tr>\n",
       "      <th>0</th>\n",
       "      <td>1000000001</td>\n",
       "      <td>2.00</td>\n",
       "      <td>male</td>\n",
       "      <td>1964.00</td>\n",
       "      <td>50s</td>\n",
       "      <td>Korea</td>\n",
       "      <td>Seoul</td>\n",
       "      <td>Gangseo-gu</td>\n",
       "      <td>NaN</td>\n",
       "      <td>overseas inflow</td>\n",
       "      <td>1.00</td>\n",
       "      <td>nan</td>\n",
       "      <td>75.00</td>\n",
       "      <td>2020-01-22</td>\n",
       "      <td>2020-01-23</td>\n",
       "      <td>2020-02-05</td>\n",
       "      <td>NaN</td>\n",
       "      <td>released</td>\n",
       "      <td>overseas</td>\n",
       "    </tr>\n",
       "    <tr>\n",
       "      <th>1</th>\n",
       "      <td>1000000002</td>\n",
       "      <td>5.00</td>\n",
       "      <td>male</td>\n",
       "      <td>1987.00</td>\n",
       "      <td>30s</td>\n",
       "      <td>Korea</td>\n",
       "      <td>Seoul</td>\n",
       "      <td>Jungnang-gu</td>\n",
       "      <td>NaN</td>\n",
       "      <td>overseas inflow</td>\n",
       "      <td>1.00</td>\n",
       "      <td>nan</td>\n",
       "      <td>31.00</td>\n",
       "      <td>NaN</td>\n",
       "      <td>2020-01-30</td>\n",
       "      <td>2020-03-02</td>\n",
       "      <td>NaN</td>\n",
       "      <td>released</td>\n",
       "      <td>overseas</td>\n",
       "    </tr>\n",
       "    <tr>\n",
       "      <th>2</th>\n",
       "      <td>1000000003</td>\n",
       "      <td>6.00</td>\n",
       "      <td>male</td>\n",
       "      <td>1964.00</td>\n",
       "      <td>50s</td>\n",
       "      <td>Korea</td>\n",
       "      <td>Seoul</td>\n",
       "      <td>Jongno-gu</td>\n",
       "      <td>NaN</td>\n",
       "      <td>contact with patient</td>\n",
       "      <td>2.00</td>\n",
       "      <td>2002000001.00</td>\n",
       "      <td>17.00</td>\n",
       "      <td>NaN</td>\n",
       "      <td>2020-01-30</td>\n",
       "      <td>2020-02-19</td>\n",
       "      <td>NaN</td>\n",
       "      <td>released</td>\n",
       "      <td>individual</td>\n",
       "    </tr>\n",
       "    <tr>\n",
       "      <th>3</th>\n",
       "      <td>1000000004</td>\n",
       "      <td>7.00</td>\n",
       "      <td>male</td>\n",
       "      <td>1991.00</td>\n",
       "      <td>20s</td>\n",
       "      <td>Korea</td>\n",
       "      <td>Seoul</td>\n",
       "      <td>Mapo-gu</td>\n",
       "      <td>NaN</td>\n",
       "      <td>overseas inflow</td>\n",
       "      <td>1.00</td>\n",
       "      <td>nan</td>\n",
       "      <td>9.00</td>\n",
       "      <td>2020-01-26</td>\n",
       "      <td>2020-01-30</td>\n",
       "      <td>2020-02-15</td>\n",
       "      <td>NaN</td>\n",
       "      <td>released</td>\n",
       "      <td>overseas</td>\n",
       "    </tr>\n",
       "    <tr>\n",
       "      <th>4</th>\n",
       "      <td>1000000005</td>\n",
       "      <td>9.00</td>\n",
       "      <td>female</td>\n",
       "      <td>1992.00</td>\n",
       "      <td>20s</td>\n",
       "      <td>Korea</td>\n",
       "      <td>Seoul</td>\n",
       "      <td>Seongbuk-gu</td>\n",
       "      <td>NaN</td>\n",
       "      <td>contact with patient</td>\n",
       "      <td>2.00</td>\n",
       "      <td>1000000002.00</td>\n",
       "      <td>2.00</td>\n",
       "      <td>NaN</td>\n",
       "      <td>2020-01-31</td>\n",
       "      <td>2020-02-24</td>\n",
       "      <td>NaN</td>\n",
       "      <td>released</td>\n",
       "      <td>individual</td>\n",
       "    </tr>\n",
       "  </tbody>\n",
       "</table>\n",
       "</div>"
      ],
      "text/plain": [
       "   patient_id  global_num     sex  birth_year  age country province  \\\n",
       "0  1000000001        2.00    male     1964.00  50s   Korea    Seoul   \n",
       "1  1000000002        5.00    male     1987.00  30s   Korea    Seoul   \n",
       "2  1000000003        6.00    male     1964.00  50s   Korea    Seoul   \n",
       "3  1000000004        7.00    male     1991.00  20s   Korea    Seoul   \n",
       "4  1000000005        9.00  female     1992.00  20s   Korea    Seoul   \n",
       "\n",
       "          city disease        infection_case  infection_order   infected_by  \\\n",
       "0   Gangseo-gu     NaN       overseas inflow             1.00           nan   \n",
       "1  Jungnang-gu     NaN       overseas inflow             1.00           nan   \n",
       "2    Jongno-gu     NaN  contact with patient             2.00 2002000001.00   \n",
       "3      Mapo-gu     NaN       overseas inflow             1.00           nan   \n",
       "4  Seongbuk-gu     NaN  contact with patient             2.00 1000000002.00   \n",
       "\n",
       "   contact_number symptom_onset_date confirmed_date released_date  \\\n",
       "0           75.00         2020-01-22     2020-01-23    2020-02-05   \n",
       "1           31.00                NaN     2020-01-30    2020-03-02   \n",
       "2           17.00                NaN     2020-01-30    2020-02-19   \n",
       "3            9.00         2020-01-26     2020-01-30    2020-02-15   \n",
       "4            2.00                NaN     2020-01-31    2020-02-24   \n",
       "\n",
       "  deceased_date     state   infection  \n",
       "0           NaN  released    overseas  \n",
       "1           NaN  released    overseas  \n",
       "2           NaN  released  individual  \n",
       "3           NaN  released    overseas  \n",
       "4           NaN  released  individual  "
      ]
     },
     "execution_count": 13,
     "metadata": {},
     "output_type": "execute_result"
    }
   ],
   "source": [
    "def categorise(x):\n",
    "    '''\n",
    "    categorises infection types\n",
    "    '''\n",
    "    if x == 'overseas inflow':\n",
    "        y = 'overseas'\n",
    "    elif x == 'contact with patient': \n",
    "        y = 'individual'\n",
    "    elif (x == 'etc') | (pd.isnull(x)):\n",
    "        y = 'unknown'\n",
    "    else: \n",
    "        y = 'group'\n",
    "    return y \n",
    "\n",
    "data['infection'] = data['infection_case'].apply(lambda x: categorise(x))\n",
    "print(data.shape)\n",
    "data.head()"
   ]
  },
  {
   "cell_type": "code",
   "execution_count": 14,
   "metadata": {},
   "outputs": [
    {
     "data": {
      "image/png": "[encoded data removed]",
      "text/plain": [
       "<Figure size 864x432 with 1 Axes>"
      ]
     },
     "metadata": {
      "needs_background": "light"
     },
     "output_type": "display_data"
    }
   ],
   "source": [
    "g = data.groupby(['infection'])['patient_id'].count()\n",
    "g = g.reset_index()\n",
    "g.rename(columns = {'patient_id': 'count'}, inplace = True)\n",
    "\n",
    "g = g.sort_values('count', ascending = False)\n",
    "\n",
    "plt.figure(figsize = (12,6))\n",
    "sns.barplot(y = 'infection', x= 'count', data = g)\n",
    "plt.title('number of patients in infection values')\n",
    "plt.show()"
   ]
  },
  {
   "cell_type": "markdown",
   "metadata": {},
   "source": [
    "## 1.2. 유동성"
   ]
  },
  {
   "cell_type": "code",
   "execution_count": 51,
   "metadata": {},
   "outputs": [
    {
     "data": {
      "text/plain": [
       "['Case',\n",
       " 'PatientInfo',\n",
       " 'PatientRoute',\n",
       " 'Policy',\n",
       " 'Region',\n",
       " 'SearchTrend',\n",
       " 'SeoulFloating',\n",
       " 'Time',\n",
       " 'TimeAge',\n",
       " 'TimeGender',\n",
       " 'TimeProvince',\n",
       " 'Weather']"
      ]
     },
     "execution_count": 51,
     "metadata": {},
     "output_type": "execute_result"
    }
   ],
   "source": [
    "tables"
   ]
  },
  {
   "cell_type": "code",
   "execution_count": 15,
   "metadata": {},
   "outputs": [],
   "source": [
    "data_route = PatientRoute.copy()"
   ]
  },
  {
   "cell_type": "code",
   "execution_count": 16,
   "metadata": {},
   "outputs": [
    {
     "name": "stdout",
     "output_type": "stream",
     "text": [
      "the number of unique values in type: 24\n"
     ]
    },
    {
     "data": {
      "text/plain": [
       "etc                            2049\n",
       "hospital                       1927\n",
       "store                           641\n",
       "restaurant                      528\n",
       "public_transportation           462\n",
       "airport                         237\n",
       "pharmacy                        230\n",
       "church                          148\n",
       "cafe                            102\n",
       "pc_cafe                          80\n",
       "school                           58\n",
       "lodging                          45\n",
       "bank                             32\n",
       "bakery                           26\n",
       "gym                              20\n",
       "beauty_salon                     19\n",
       "real_estate_agency               19\n",
       "post_office                      17\n",
       "university                       14\n",
       "administrative_area_level_1      14\n",
       "bar                              13\n",
       "gas_station                      12\n",
       "academy                          11\n",
       "karaoke                          10\n",
       "Name: type, dtype: int64"
      ]
     },
     "execution_count": 16,
     "metadata": {},
     "output_type": "execute_result"
    }
   ],
   "source": [
    "print('the number of unique values in type:', len(data_route['type'].unique()))\n",
    "data_route['type'].value_counts()"
   ]
  },
  {
   "cell_type": "code",
   "execution_count": 66,
   "metadata": {},
   "outputs": [
    {
     "data": {
      "text/plain": [
       "0"
      ]
     },
     "execution_count": 66,
     "metadata": {},
     "output_type": "execute_result"
    }
   ],
   "source": [
    "data_route['type'].isnull().sum()"
   ]
  },
  {
   "cell_type": "markdown",
   "metadata": {},
   "source": [
    "- 재그룹화: 필수적 이동이었는가 ? 부수적 이동이었는가 ?"
   ]
  },
  {
   "cell_type": "code",
   "execution_count": 18,
   "metadata": {},
   "outputs": [],
   "source": [
    "## categories\n",
    "leisure = ['library', 'theater', 'cafe', 'bakery', 'beauty_salon',\n",
    "          'pc_cafe', 'billiards','restaurant', 'bar', 'karaoke']\n",
    "travel = ['airport', 'lodging']\n",
    "essential_edu = ['primary_school', 'school', 'university']\n",
    "non_essential_edu = ['academy']\n",
    "exercise = ['gym', 'mountain', 'park']\n",
    "essential_admin = ['administrative_area_level_1', 'governmnet_office', 'post_office']\n",
    "non_essential_admin = ['police_office', 'bank', 'real_estate_agency']\n",
    "necessity = ['store', 'public_transportation', 'gas_station']\n",
    "medical = ['hospital', 'pharmacy']\n",
    "church = ['church']\n",
    "etc = ['etc']"
   ]
  },
  {
   "cell_type": "code",
   "execution_count": 19,
   "metadata": {},
   "outputs": [],
   "source": [
    "essential = essential_edu + essential_admin + necessity + medical \n",
    "def type_group_essen(x): \n",
    "    group = None\n",
    "    if x in essential: \n",
    "        group = 'essential'\n",
    "    else:\n",
    "        group = 'non-essential' \n",
    "    return group "
   ]
  },
  {
   "cell_type": "code",
   "execution_count": 20,
   "metadata": {},
   "outputs": [
    {
     "data": {
      "text/html": [
       "<div>\n",
       "<style scoped>\n",
       "    .dataframe tbody tr th:only-of-type {\n",
       "        vertical-align: middle;\n",
       "    }\n",
       "\n",
       "    .dataframe tbody tr th {\n",
       "        vertical-align: top;\n",
       "    }\n",
       "\n",
       "    .dataframe thead th {\n",
       "        text-align: right;\n",
       "    }\n",
       "</style>\n",
       "<table border=\"1\" class=\"dataframe\">\n",
       "  <thead>\n",
       "    <tr style=\"text-align: right;\">\n",
       "      <th></th>\n",
       "      <th>patient_id</th>\n",
       "      <th>type</th>\n",
       "      <th>route_group_essential</th>\n",
       "    </tr>\n",
       "  </thead>\n",
       "  <tbody>\n",
       "    <tr>\n",
       "      <th>0</th>\n",
       "      <td>1000000001</td>\n",
       "      <td>airport</td>\n",
       "      <td>non-essential</td>\n",
       "    </tr>\n",
       "    <tr>\n",
       "      <th>1</th>\n",
       "      <td>1000000001</td>\n",
       "      <td>hospital</td>\n",
       "      <td>essential</td>\n",
       "    </tr>\n",
       "    <tr>\n",
       "      <th>2</th>\n",
       "      <td>1000000002</td>\n",
       "      <td>etc</td>\n",
       "      <td>non-essential</td>\n",
       "    </tr>\n",
       "    <tr>\n",
       "      <th>3</th>\n",
       "      <td>1000000002</td>\n",
       "      <td>store</td>\n",
       "      <td>essential</td>\n",
       "    </tr>\n",
       "    <tr>\n",
       "      <th>4</th>\n",
       "      <td>1000000002</td>\n",
       "      <td>public_transportation</td>\n",
       "      <td>essential</td>\n",
       "    </tr>\n",
       "  </tbody>\n",
       "</table>\n",
       "</div>"
      ],
      "text/plain": [
       "   patient_id                   type route_group_essential\n",
       "0  1000000001                airport         non-essential\n",
       "1  1000000001               hospital             essential\n",
       "2  1000000002                    etc         non-essential\n",
       "3  1000000002                  store             essential\n",
       "4  1000000002  public_transportation             essential"
      ]
     },
     "execution_count": 20,
     "metadata": {},
     "output_type": "execute_result"
    }
   ],
   "source": [
    "data_route['route_group_essential'] = data_route['type'].apply(lambda x: type_group_essen(x)) \n",
    "data_route = data_route[['patient_id', 'type', 'route_group_essential']]\n",
    "data_route.head()"
   ]
  },
  {
   "cell_type": "markdown",
   "metadata": {},
   "source": [
    "- 참고자료: [R friend 데이터 재구조화](https://rfriend.tistory.com/276)"
   ]
  },
  {
   "cell_type": "code",
   "execution_count": 38,
   "metadata": {},
   "outputs": [
    {
     "data": {
      "text/html": [
       "<div>\n",
       "<style scoped>\n",
       "    .dataframe tbody tr th:only-of-type {\n",
       "        vertical-align: middle;\n",
       "    }\n",
       "\n",
       "    .dataframe tbody tr th {\n",
       "        vertical-align: top;\n",
       "    }\n",
       "\n",
       "    .dataframe thead th {\n",
       "        text-align: right;\n",
       "    }\n",
       "</style>\n",
       "<table border=\"1\" class=\"dataframe\">\n",
       "  <thead>\n",
       "    <tr style=\"text-align: right;\">\n",
       "      <th>route_group_essential</th>\n",
       "      <th>essential</th>\n",
       "      <th>non-essential</th>\n",
       "    </tr>\n",
       "    <tr>\n",
       "      <th>patient_id</th>\n",
       "      <th></th>\n",
       "      <th></th>\n",
       "    </tr>\n",
       "  </thead>\n",
       "  <tbody>\n",
       "    <tr>\n",
       "      <th>1000000001</th>\n",
       "      <td>1.00</td>\n",
       "      <td>1.00</td>\n",
       "    </tr>\n",
       "    <tr>\n",
       "      <th>1000000002</th>\n",
       "      <td>9.00</td>\n",
       "      <td>4.00</td>\n",
       "    </tr>\n",
       "    <tr>\n",
       "      <th>1000000003</th>\n",
       "      <td>nan</td>\n",
       "      <td>2.00</td>\n",
       "    </tr>\n",
       "    <tr>\n",
       "      <th>1000000004</th>\n",
       "      <td>1.00</td>\n",
       "      <td>nan</td>\n",
       "    </tr>\n",
       "    <tr>\n",
       "      <th>1000000005</th>\n",
       "      <td>1.00</td>\n",
       "      <td>nan</td>\n",
       "    </tr>\n",
       "    <tr>\n",
       "      <th>...</th>\n",
       "      <td>...</td>\n",
       "      <td>...</td>\n",
       "    </tr>\n",
       "    <tr>\n",
       "      <th>6100000086</th>\n",
       "      <td>2.00</td>\n",
       "      <td>2.00</td>\n",
       "    </tr>\n",
       "    <tr>\n",
       "      <th>6100000087</th>\n",
       "      <td>6.00</td>\n",
       "      <td>2.00</td>\n",
       "    </tr>\n",
       "    <tr>\n",
       "      <th>6100000088</th>\n",
       "      <td>5.00</td>\n",
       "      <td>19.00</td>\n",
       "    </tr>\n",
       "    <tr>\n",
       "      <th>6100000089</th>\n",
       "      <td>1.00</td>\n",
       "      <td>1.00</td>\n",
       "    </tr>\n",
       "    <tr>\n",
       "      <th>6100000090</th>\n",
       "      <td>3.00</td>\n",
       "      <td>4.00</td>\n",
       "    </tr>\n",
       "  </tbody>\n",
       "</table>\n",
       "<p>1211 rows × 2 columns</p>\n",
       "</div>"
      ],
      "text/plain": [
       "route_group_essential  essential  non-essential\n",
       "patient_id                                     \n",
       "1000000001                  1.00           1.00\n",
       "1000000002                  9.00           4.00\n",
       "1000000003                   nan           2.00\n",
       "1000000004                  1.00            nan\n",
       "1000000005                  1.00            nan\n",
       "...                          ...            ...\n",
       "6100000086                  2.00           2.00\n",
       "6100000087                  6.00           2.00\n",
       "6100000088                  5.00          19.00\n",
       "6100000089                  1.00           1.00\n",
       "6100000090                  3.00           4.00\n",
       "\n",
       "[1211 rows x 2 columns]"
      ]
     },
     "execution_count": 38,
     "metadata": {},
     "output_type": "execute_result"
    }
   ],
   "source": [
    "# g = pd.DataFrame(data_route.groupby(['patient_id', 'route_group_essential'])['patient_id'].count())\n",
    "# g = g.unstack()\n",
    "\n",
    "g = pd.DataFrame(data_route.groupby(['patient_id', 'route_group_essential'])['patient_id'].count().unstack())\n",
    "g"
   ]
  },
  {
   "cell_type": "markdown",
   "metadata": {},
   "source": [
    "- 여기서 nan은 이동하지 않았다는 뜻!"
   ]
  },
  {
   "cell_type": "code",
   "execution_count": 39,
   "metadata": {},
   "outputs": [
    {
     "data": {
      "text/html": [
       "<div>\n",
       "<style scoped>\n",
       "    .dataframe tbody tr th:only-of-type {\n",
       "        vertical-align: middle;\n",
       "    }\n",
       "\n",
       "    .dataframe tbody tr th {\n",
       "        vertical-align: top;\n",
       "    }\n",
       "\n",
       "    .dataframe thead th {\n",
       "        text-align: right;\n",
       "    }\n",
       "</style>\n",
       "<table border=\"1\" class=\"dataframe\">\n",
       "  <thead>\n",
       "    <tr style=\"text-align: right;\">\n",
       "      <th>route_group_essential</th>\n",
       "      <th>patient_id</th>\n",
       "      <th>essential</th>\n",
       "      <th>non-essential</th>\n",
       "    </tr>\n",
       "  </thead>\n",
       "  <tbody>\n",
       "    <tr>\n",
       "      <th>0</th>\n",
       "      <td>1000000001</td>\n",
       "      <td>1.00</td>\n",
       "      <td>1.00</td>\n",
       "    </tr>\n",
       "    <tr>\n",
       "      <th>1</th>\n",
       "      <td>1000000002</td>\n",
       "      <td>9.00</td>\n",
       "      <td>4.00</td>\n",
       "    </tr>\n",
       "    <tr>\n",
       "      <th>2</th>\n",
       "      <td>1000000003</td>\n",
       "      <td>0.00</td>\n",
       "      <td>2.00</td>\n",
       "    </tr>\n",
       "    <tr>\n",
       "      <th>3</th>\n",
       "      <td>1000000004</td>\n",
       "      <td>1.00</td>\n",
       "      <td>0.00</td>\n",
       "    </tr>\n",
       "    <tr>\n",
       "      <th>4</th>\n",
       "      <td>1000000005</td>\n",
       "      <td>1.00</td>\n",
       "      <td>0.00</td>\n",
       "    </tr>\n",
       "  </tbody>\n",
       "</table>\n",
       "</div>"
      ],
      "text/plain": [
       "route_group_essential  patient_id  essential  non-essential\n",
       "0                      1000000001       1.00           1.00\n",
       "1                      1000000002       9.00           4.00\n",
       "2                      1000000003       0.00           2.00\n",
       "3                      1000000004       1.00           0.00\n",
       "4                      1000000005       1.00           0.00"
      ]
     },
     "execution_count": 39,
     "metadata": {},
     "output_type": "execute_result"
    }
   ],
   "source": [
    "g.fillna(0, inplace = True)\n",
    "g.reset_index(inplace = True)\n",
    "g = g[['patient_id', 'essential', 'non-essential']]\n",
    "g.head()"
   ]
  },
  {
   "cell_type": "code",
   "execution_count": 40,
   "metadata": {},
   "outputs": [
    {
     "data": {
      "text/html": [
       "<div>\n",
       "<style scoped>\n",
       "    .dataframe tbody tr th:only-of-type {\n",
       "        vertical-align: middle;\n",
       "    }\n",
       "\n",
       "    .dataframe tbody tr th {\n",
       "        vertical-align: top;\n",
       "    }\n",
       "\n",
       "    .dataframe thead th {\n",
       "        text-align: right;\n",
       "    }\n",
       "</style>\n",
       "<table border=\"1\" class=\"dataframe\">\n",
       "  <thead>\n",
       "    <tr style=\"text-align: right;\">\n",
       "      <th></th>\n",
       "      <th>patient_id</th>\n",
       "      <th>global_num</th>\n",
       "      <th>sex</th>\n",
       "      <th>birth_year</th>\n",
       "      <th>age</th>\n",
       "      <th>country</th>\n",
       "      <th>province</th>\n",
       "      <th>city</th>\n",
       "      <th>disease</th>\n",
       "      <th>infection_case</th>\n",
       "      <th>...</th>\n",
       "      <th>infected_by</th>\n",
       "      <th>contact_number</th>\n",
       "      <th>symptom_onset_date</th>\n",
       "      <th>confirmed_date</th>\n",
       "      <th>released_date</th>\n",
       "      <th>deceased_date</th>\n",
       "      <th>state</th>\n",
       "      <th>infection</th>\n",
       "      <th>essential</th>\n",
       "      <th>non-essential</th>\n",
       "    </tr>\n",
       "  </thead>\n",
       "  <tbody>\n",
       "    <tr>\n",
       "      <th>0</th>\n",
       "      <td>1000000001</td>\n",
       "      <td>2.00</td>\n",
       "      <td>male</td>\n",
       "      <td>1964.00</td>\n",
       "      <td>50s</td>\n",
       "      <td>Korea</td>\n",
       "      <td>Seoul</td>\n",
       "      <td>Gangseo-gu</td>\n",
       "      <td>NaN</td>\n",
       "      <td>overseas inflow</td>\n",
       "      <td>...</td>\n",
       "      <td>nan</td>\n",
       "      <td>75.00</td>\n",
       "      <td>2020-01-22</td>\n",
       "      <td>2020-01-23</td>\n",
       "      <td>2020-02-05</td>\n",
       "      <td>NaN</td>\n",
       "      <td>released</td>\n",
       "      <td>overseas</td>\n",
       "      <td>1.00</td>\n",
       "      <td>1.00</td>\n",
       "    </tr>\n",
       "    <tr>\n",
       "      <th>1</th>\n",
       "      <td>1000000002</td>\n",
       "      <td>5.00</td>\n",
       "      <td>male</td>\n",
       "      <td>1987.00</td>\n",
       "      <td>30s</td>\n",
       "      <td>Korea</td>\n",
       "      <td>Seoul</td>\n",
       "      <td>Jungnang-gu</td>\n",
       "      <td>NaN</td>\n",
       "      <td>overseas inflow</td>\n",
       "      <td>...</td>\n",
       "      <td>nan</td>\n",
       "      <td>31.00</td>\n",
       "      <td>NaN</td>\n",
       "      <td>2020-01-30</td>\n",
       "      <td>2020-03-02</td>\n",
       "      <td>NaN</td>\n",
       "      <td>released</td>\n",
       "      <td>overseas</td>\n",
       "      <td>9.00</td>\n",
       "      <td>4.00</td>\n",
       "    </tr>\n",
       "    <tr>\n",
       "      <th>2</th>\n",
       "      <td>1000000003</td>\n",
       "      <td>6.00</td>\n",
       "      <td>male</td>\n",
       "      <td>1964.00</td>\n",
       "      <td>50s</td>\n",
       "      <td>Korea</td>\n",
       "      <td>Seoul</td>\n",
       "      <td>Jongno-gu</td>\n",
       "      <td>NaN</td>\n",
       "      <td>contact with patient</td>\n",
       "      <td>...</td>\n",
       "      <td>2002000001.00</td>\n",
       "      <td>17.00</td>\n",
       "      <td>NaN</td>\n",
       "      <td>2020-01-30</td>\n",
       "      <td>2020-02-19</td>\n",
       "      <td>NaN</td>\n",
       "      <td>released</td>\n",
       "      <td>individual</td>\n",
       "      <td>0.00</td>\n",
       "      <td>2.00</td>\n",
       "    </tr>\n",
       "    <tr>\n",
       "      <th>3</th>\n",
       "      <td>1000000004</td>\n",
       "      <td>7.00</td>\n",
       "      <td>male</td>\n",
       "      <td>1991.00</td>\n",
       "      <td>20s</td>\n",
       "      <td>Korea</td>\n",
       "      <td>Seoul</td>\n",
       "      <td>Mapo-gu</td>\n",
       "      <td>NaN</td>\n",
       "      <td>overseas inflow</td>\n",
       "      <td>...</td>\n",
       "      <td>nan</td>\n",
       "      <td>9.00</td>\n",
       "      <td>2020-01-26</td>\n",
       "      <td>2020-01-30</td>\n",
       "      <td>2020-02-15</td>\n",
       "      <td>NaN</td>\n",
       "      <td>released</td>\n",
       "      <td>overseas</td>\n",
       "      <td>1.00</td>\n",
       "      <td>0.00</td>\n",
       "    </tr>\n",
       "    <tr>\n",
       "      <th>4</th>\n",
       "      <td>1000000005</td>\n",
       "      <td>9.00</td>\n",
       "      <td>female</td>\n",
       "      <td>1992.00</td>\n",
       "      <td>20s</td>\n",
       "      <td>Korea</td>\n",
       "      <td>Seoul</td>\n",
       "      <td>Seongbuk-gu</td>\n",
       "      <td>NaN</td>\n",
       "      <td>contact with patient</td>\n",
       "      <td>...</td>\n",
       "      <td>1000000002.00</td>\n",
       "      <td>2.00</td>\n",
       "      <td>NaN</td>\n",
       "      <td>2020-01-31</td>\n",
       "      <td>2020-02-24</td>\n",
       "      <td>NaN</td>\n",
       "      <td>released</td>\n",
       "      <td>individual</td>\n",
       "      <td>1.00</td>\n",
       "      <td>0.00</td>\n",
       "    </tr>\n",
       "  </tbody>\n",
       "</table>\n",
       "<p>5 rows × 21 columns</p>\n",
       "</div>"
      ],
      "text/plain": [
       "   patient_id  global_num     sex  birth_year  age country province  \\\n",
       "0  1000000001        2.00    male     1964.00  50s   Korea    Seoul   \n",
       "1  1000000002        5.00    male     1987.00  30s   Korea    Seoul   \n",
       "2  1000000003        6.00    male     1964.00  50s   Korea    Seoul   \n",
       "3  1000000004        7.00    male     1991.00  20s   Korea    Seoul   \n",
       "4  1000000005        9.00  female     1992.00  20s   Korea    Seoul   \n",
       "\n",
       "          city disease        infection_case  ...   infected_by  \\\n",
       "0   Gangseo-gu     NaN       overseas inflow  ...           nan   \n",
       "1  Jungnang-gu     NaN       overseas inflow  ...           nan   \n",
       "2    Jongno-gu     NaN  contact with patient  ... 2002000001.00   \n",
       "3      Mapo-gu     NaN       overseas inflow  ...           nan   \n",
       "4  Seongbuk-gu     NaN  contact with patient  ... 1000000002.00   \n",
       "\n",
       "   contact_number  symptom_onset_date confirmed_date released_date  \\\n",
       "0           75.00          2020-01-22     2020-01-23    2020-02-05   \n",
       "1           31.00                 NaN     2020-01-30    2020-03-02   \n",
       "2           17.00                 NaN     2020-01-30    2020-02-19   \n",
       "3            9.00          2020-01-26     2020-01-30    2020-02-15   \n",
       "4            2.00                 NaN     2020-01-31    2020-02-24   \n",
       "\n",
       "  deceased_date     state   infection essential  non-essential  \n",
       "0           NaN  released    overseas      1.00           1.00  \n",
       "1           NaN  released    overseas      9.00           4.00  \n",
       "2           NaN  released  individual      0.00           2.00  \n",
       "3           NaN  released    overseas      1.00           0.00  \n",
       "4           NaN  released  individual      1.00           0.00  \n",
       "\n",
       "[5 rows x 21 columns]"
      ]
     },
     "execution_count": 40,
     "metadata": {},
     "output_type": "execute_result"
    }
   ],
   "source": [
    "# data = data.merge(g, left_on = 'patient_id', right_on = 'patient_id', how = 'left')\n",
    "data = pd.merge(data, g, on = 'patient_id', how = 'left')\n",
    "data.head()"
   ]
  },
  {
   "cell_type": "code",
   "execution_count": 41,
   "metadata": {},
   "outputs": [
    {
     "name": "stdout",
     "output_type": "stream",
     "text": [
      "(3368, 21)\n"
     ]
    },
    {
     "data": {
      "text/plain": [
       "(2169, 21)"
      ]
     },
     "execution_count": 41,
     "metadata": {},
     "output_type": "execute_result"
    }
   ],
   "source": [
    "print(data.shape)\n",
    "data[(data['essential'].isnull()) | (data['non-essential'].isnull())].shape"
   ]
  },
  {
   "cell_type": "markdown",
   "metadata": {},
   "source": [
    "- data에 포함된 id 중에는 data_route에서 측정되지 않은 데이터가 2000명이나 있었어\n",
    "- 일단 포함된 1000명만 생각해보자"
   ]
  },
  {
   "cell_type": "code",
   "execution_count": 43,
   "metadata": {},
   "outputs": [
    {
     "name": "stdout",
     "output_type": "stream",
     "text": [
      "original data shape: (3368, 21)\n",
      "data shape after removing missing values in essentail/non-essential: (1199, 21)\n"
     ]
    }
   ],
   "source": [
    "print('original data shape:', data.shape)\n",
    "data_with_route = data[(data['essential'].notnull()) & (data['non-essential'].notnull())] \n",
    "print('data shape after removing missing values in essentail/non-essential:', data_with_route.shape)"
   ]
  },
  {
   "cell_type": "markdown",
   "metadata": {},
   "source": [
    "## 1.3. 접촉정도"
   ]
  },
  {
   "cell_type": "code",
   "execution_count": 58,
   "metadata": {},
   "outputs": [
    {
     "data": {
      "text/plain": [
       "count    332.00\n",
       "mean      24.27\n",
       "std       95.07\n",
       "min        0.00\n",
       "25%        2.00\n",
       "50%        5.00\n",
       "75%       17.25\n",
       "max     1160.00\n",
       "Name: contact_number, dtype: float64"
      ]
     },
     "execution_count": 58,
     "metadata": {},
     "output_type": "execute_result"
    }
   ],
   "source": [
    "data_with_route['contact_number'].describe()"
   ]
  },
  {
   "cell_type": "code",
   "execution_count": 62,
   "metadata": {},
   "outputs": [
    {
     "data": {
      "image/png": "[encoded data removed]",
      "text/plain": [
       "<Figure size 432x288 with 2 Axes>"
      ]
     },
     "metadata": {
      "needs_background": "light"
     },
     "output_type": "display_data"
    }
   ],
   "source": [
    "plt.subplot(1,2,1)\n",
    "data_with_route['contact_number'].plot(kind = 'hist')\n",
    "plt.ylim(bottom=0)\n",
    "plt.xlim(left=0)\n",
    "plt.subplot(1,2,2)\n",
    "sns.distplot(data_with_route['contact_number'])\n",
    "plt.ylim(bottom=0)\n",
    "plt.xlim(left=0)\n",
    "plt.show()"
   ]
  },
  {
   "cell_type": "code",
   "execution_count": 63,
   "metadata": {},
   "outputs": [
    {
     "data": {
      "text/html": [
       "<div>\n",
       "<style scoped>\n",
       "    .dataframe tbody tr th:only-of-type {\n",
       "        vertical-align: middle;\n",
       "    }\n",
       "\n",
       "    .dataframe tbody tr th {\n",
       "        vertical-align: top;\n",
       "    }\n",
       "\n",
       "    .dataframe thead th {\n",
       "        text-align: right;\n",
       "    }\n",
       "</style>\n",
       "<table border=\"1\" class=\"dataframe\">\n",
       "  <thead>\n",
       "    <tr style=\"text-align: right;\">\n",
       "      <th></th>\n",
       "      <th>patient_id</th>\n",
       "      <th>global_num</th>\n",
       "      <th>sex</th>\n",
       "      <th>birth_year</th>\n",
       "      <th>age</th>\n",
       "      <th>country</th>\n",
       "      <th>province</th>\n",
       "      <th>city</th>\n",
       "      <th>disease</th>\n",
       "      <th>infection_case</th>\n",
       "      <th>...</th>\n",
       "      <th>infected_by</th>\n",
       "      <th>contact_number</th>\n",
       "      <th>symptom_onset_date</th>\n",
       "      <th>confirmed_date</th>\n",
       "      <th>released_date</th>\n",
       "      <th>deceased_date</th>\n",
       "      <th>state</th>\n",
       "      <th>infection</th>\n",
       "      <th>essential</th>\n",
       "      <th>non-essential</th>\n",
       "    </tr>\n",
       "  </thead>\n",
       "  <tbody>\n",
       "    <tr>\n",
       "      <th>764</th>\n",
       "      <td>1200000031</td>\n",
       "      <td>31.00</td>\n",
       "      <td>female</td>\n",
       "      <td>1959.00</td>\n",
       "      <td>60s</td>\n",
       "      <td>Korea</td>\n",
       "      <td>Daegu</td>\n",
       "      <td>NaN</td>\n",
       "      <td>NaN</td>\n",
       "      <td>Shincheonji Church</td>\n",
       "      <td>...</td>\n",
       "      <td>nan</td>\n",
       "      <td>1160.00</td>\n",
       "      <td>NaN</td>\n",
       "      <td>2020-02-18</td>\n",
       "      <td>NaN</td>\n",
       "      <td>NaN</td>\n",
       "      <td>isolated</td>\n",
       "      <td>group</td>\n",
       "      <td>11.00</td>\n",
       "      <td>5.00</td>\n",
       "    </tr>\n",
       "  </tbody>\n",
       "</table>\n",
       "<p>1 rows × 21 columns</p>\n",
       "</div>"
      ],
      "text/plain": [
       "     patient_id  global_num     sex  birth_year  age country province city  \\\n",
       "764  1200000031       31.00  female     1959.00  60s   Korea    Daegu  NaN   \n",
       "\n",
       "    disease      infection_case  ...  infected_by  contact_number  \\\n",
       "764     NaN  Shincheonji Church  ...          nan         1160.00   \n",
       "\n",
       "     symptom_onset_date confirmed_date released_date deceased_date     state  \\\n",
       "764                 NaN     2020-02-18           NaN           NaN  isolated   \n",
       "\n",
       "    infection essential  non-essential  \n",
       "764     group     11.00           5.00  \n",
       "\n",
       "[1 rows x 21 columns]"
      ]
     },
     "execution_count": 63,
     "metadata": {},
     "output_type": "execute_result"
    }
   ],
   "source": [
    "data[data['contact_number'] == 1160]"
   ]
  },
  {
   "cell_type": "code",
   "execution_count": null,
   "metadata": {},
   "outputs": [],
   "source": []
  }
 ],
 "metadata": {
  "kernelspec": {
   "display_name": "AI_LMS_env",
   "language": "python",
   "name": "ai_lms_env"
  },
  "language_info": {
   "codemirror_mode": {
    "name": "ipython",
    "version": 3
   },
   "file_extension": ".py",
   "mimetype": "text/x-python",
   "name": "python",
   "nbconvert_exporter": "python",
   "pygments_lexer": "ipython3",
   "version": "3.8.5"
  }
 },
 "nbformat": 4,
 "nbformat_minor": 4
}
